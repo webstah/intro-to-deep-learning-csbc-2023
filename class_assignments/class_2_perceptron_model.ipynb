{
  "cells": [
    {
      "cell_type": "code",
      "execution_count": 2,
      "metadata": {
        "id": "sdQInHfmBmks"
      },
      "outputs": [],
      "source": [
        "# We will classify the two flowers Setosa and Versicolor using the perceptron model.\n",
        "# The input features to our model will be the flowers sepal length and petal length.\n",
        "# This work is based on tutorial here: https://sebastianraschka.com/Articles/2015_singlelayer_neurons.html#artificial-neurons-and-the-mcculloch-pitts-model\n",
        "\n",
        "# load flower dataset\n",
        "import pandas as pd\n",
        "df = pd.read_csv('https://archive.ics.uci.edu/ml/machine-learning-databases/iris/iris.data', header=None)"
      ]
    },
    {
      "cell_type": "code",
      "execution_count": 25,
      "metadata": {
        "id": "qaGNmKq-CevN"
      },
      "outputs": [],
      "source": [
        "import numpy as np\n",
        "# NumPy is a Python library made for operations on larger arrays and matrices.\n",
        "# Much of the functionality in NumPy is also available in PyTorch.\n",
        "# We will learn about NumPy when necessary though it is not the focus of this class.\n",
        "\n",
        "y = df.iloc[0:100, 4].values # here y is our label, not an input feature\n",
        "y = np.where(y == 'Iris-setosa', -1, 1)\n",
        "x = df.iloc[0:100, [0,2]].values"
      ]
    },
    {
      "cell_type": "code",
      "execution_count": 1,
      "metadata": {
        "colab": {
          "base_uri": "https://localhost:8080/",
          "height": 282
        },
        "id": "MkB3xNIZD7_C",
        "outputId": "3e05a1f2-5f30-490d-974a-f7bcd1371ba6"
      },
      "outputs": [],
      "source": [
        "import matplotlib.pyplot as plt\n",
        "# matplotlib is a Python library that allows us to easily visualize various types of data\n"
      ]
    },
    {
      "cell_type": "code",
      "execution_count": 2,
      "metadata": {
        "colab": {
          "base_uri": "https://localhost:8080/"
        },
        "id": "Zd2hmMPmDneX",
        "outputId": "6b548832-0eae-4477-e6af-00d7202294a0"
      },
      "outputs": [
        {
          "name": "stderr",
          "output_type": "stream",
          "text": [
            "/home/webster/.virtualenvs/torch_310/lib/python3.10/site-packages/tqdm/auto.py:22: TqdmWarning: IProgress not found. Please update jupyter and ipywidgets. See https://ipywidgets.readthedocs.io/en/stable/user_install.html\n",
            "  from .autonotebook import tqdm as notebook_tqdm\n"
          ]
        }
      ],
      "source": [
        "# convert our features and labels to PyTorch tensors\n",
        "import torch\n"
      ]
    },
    {
      "cell_type": "code",
      "execution_count": null,
      "metadata": {
        "colab": {
          "base_uri": "https://localhost:8080/"
        },
        "id": "Aus4UfvEFqxV",
        "outputId": "2eb6667d-5fee-4845-b1b2-405c4479fb41"
      },
      "outputs": [],
      "source": [
        "num_epochs = 50\n",
        "lr = 1e-2\n",
        "\n",
        "w = torch.zeros(2, 1)\n",
        "\n",
        "for i in range(num_epochs):\n",
        "  # calculate gradient and update weight\n",
        "\n",
        "  # calculate loss and accuracy\n"
      ]
    }
  ],
  "metadata": {
    "colab": {
      "provenance": []
    },
    "kernelspec": {
      "display_name": "Python 3",
      "name": "python3"
    },
    "language_info": {
      "codemirror_mode": {
        "name": "ipython",
        "version": 3
      },
      "file_extension": ".py",
      "mimetype": "text/x-python",
      "name": "python",
      "nbconvert_exporter": "python",
      "pygments_lexer": "ipython3",
      "version": "3.10.6"
    }
  },
  "nbformat": 4,
  "nbformat_minor": 0
}
