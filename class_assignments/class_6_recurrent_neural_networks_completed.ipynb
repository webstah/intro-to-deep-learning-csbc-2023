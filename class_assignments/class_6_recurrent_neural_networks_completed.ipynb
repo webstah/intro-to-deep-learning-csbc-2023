{
 "cells": [
  {
   "cell_type": "code",
   "execution_count": null,
   "metadata": {},
   "outputs": [],
   "source": [
    "!wget https://raw.githubusercontent.com/jbrownlee/Datasets/master/airline-passengers.csv"
   ]
  },
  {
   "cell_type": "code",
   "execution_count": null,
   "metadata": {},
   "outputs": [],
   "source": [
    "# based on google colab here: https://colab.research.google.com/github/dlmacedo/starter-academic/blob/master/content/courses/deeplearning/notebooks/pytorch/Time_Series_Prediction_with_LSTM_Using_PyTorch.ipynb\n",
    "# Additional data here: https://www.usinflationcalculator.com/inflation/consumer-price-index-and-annual-percent-changes-from-1913-to-2008/\n",
    "import matplotlib.pyplot as plt\n",
    "import pandas as pd\n",
    "import numpy as np\n",
    "\n",
    "data_ = pd.read_csv('airline-passengers.csv')\n",
    "data_ = data_.iloc[:,1:2].values\n",
    "\n",
    "data_cpi = pd.read_csv('us-cpi.csv', header=None)\n",
    "data_cpi = np.array(data_cpi.iloc[:, 1:].values)\n",
    "data_cpi = data_cpi.reshape(np.prod(data_cpi.shape), 1)\n",
    "\n",
    "plt.plot(data_, label='Airline Passangers')\n",
    "plt.xlabel('Month')\n",
    "plt.ylabel('# of Passengers (x1000)')\n",
    "plt.show()\n",
    "\n",
    "plt.plot(data_cpi, label='US CPI')\n",
    "plt.xlabel('Month')\n",
    "plt.ylabel('CPI')\n",
    "plt.show()\n",
    "\n",
    "print(data_cpi.shape, data_.shape)"
   ]
  },
  {
   "cell_type": "code",
   "execution_count": null,
   "metadata": {},
   "outputs": [],
   "source": [
    "import torch\n",
    "# data = data_cpi\n",
    "# scale data wiht min-max scaling\n"
   ]
  },
  {
   "cell_type": "code",
   "execution_count": 371,
   "metadata": {},
   "outputs": [],
   "source": [
    "import torch.nn as nn\n"
   ]
  },
  {
   "cell_type": "code",
   "execution_count": null,
   "metadata": {},
   "outputs": [],
   "source": [
    "num_epochs = 10000\n",
    "learning_rate = 0.01\n",
    "\n",
    "input_size = 2\n",
    "hidden_size = 8\n",
    "num_layers = 1\n",
    "num_classes = 1\n"
   ]
  },
  {
   "cell_type": "code",
   "execution_count": null,
   "metadata": {},
   "outputs": [],
   "source": [
    "\n",
    "\n",
    "plt.axvline(x=len(train_x), c='r', linestyle='--')\n",
    "\n",
    "plt.plot(dataY_plot, label='Ground Truth')\n",
    "plt.plot(data_predict, label='Prediction')\n",
    "plt.suptitle('Time-Series Prediction')\n",
    "plt.legend()\n",
    "plt.show()"
   ]
  },
  {
   "cell_type": "code",
   "execution_count": null,
   "metadata": {},
   "outputs": [],
   "source": [
    "import torch\n",
    "\n",
    "# scale data wiht min-max scaling\n",
    "data_ = (data_ - np.min(data_)) / (np.max(data_) - np.min(data_))\n",
    "data_cpi_ = (data_cpi - np.min(data_cpi)) / (np.max(data_cpi) - np.min(data_cpi))\n",
    "\n",
    "print(data_cpi_.shape, data_.shape)\n",
    "\n",
    "data = data_ #np.concatenate([data_, data_cpi_], axis=-1)\n",
    "print(data.shape)\n",
    "\n",
    "# window data\n",
    "def window_data(data, seq_length):\n",
    "    x = []\n",
    "    y = []\n",
    "    for i in range(len(data)-seq_length-1):\n",
    "        x.append(data[i:i+seq_length])\n",
    "        y.append(data[i+seq_length, 0])\n",
    "\n",
    "    return x, y\n",
    "\n",
    "x, y = window_data(data, 4)\n",
    "x, y = np.array(x), np.array(y)\n",
    "\n",
    "train_x, train_y = torch.Tensor(x[:int(len(x)*0.666)]), torch.Tensor(y[:int(len(y)*0.666)])\n",
    "test_x, test_y = torch.Tensor(x[int(len(x)*0.666):]), torch.Tensor(y[int(len(y)*0.666):])\n",
    "print(train_x.shape, train_y.shape)\n",
    "\n",
    "all_data_x, all_data_y = torch.Tensor(x), torch.Tensor(y)"
   ]
  }
 ],
 "metadata": {
  "kernelspec": {
   "display_name": "torch_113",
   "language": "python",
   "name": "python3"
  },
  "language_info": {
   "codemirror_mode": {
    "name": "ipython",
    "version": 3
   },
   "file_extension": ".py",
   "mimetype": "text/x-python",
   "name": "python",
   "nbconvert_exporter": "python",
   "pygments_lexer": "ipython3",
   "version": "3.10.6"
  },
  "orig_nbformat": 4
 },
 "nbformat": 4,
 "nbformat_minor": 2
}
