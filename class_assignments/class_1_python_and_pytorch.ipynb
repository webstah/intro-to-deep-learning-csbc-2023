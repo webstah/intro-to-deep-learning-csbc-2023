{
  "cells": [
    {
      "cell_type": "markdown",
      "metadata": {
        "id": "qgtwgxvZkFBA"
      },
      "source": [
        "## Python Review"
      ]
    },
    {
      "cell_type": "code",
      "execution_count": null,
      "metadata": {
        "id": "7MHuu4d4kEVD"
      },
      "outputs": [],
      "source": [
        "# print 'hello'\n"
      ]
    },
    {
      "cell_type": "code",
      "execution_count": null,
      "metadata": {
        "id": "kFSPe7nk7q4y"
      },
      "outputs": [],
      "source": [
        "# declare a variable: integer, float, bool, string\n"
      ]
    },
    {
      "cell_type": "code",
      "execution_count": null,
      "metadata": {
        "id": "ntyP_1x87siQ"
      },
      "outputs": [],
      "source": [
        "# make an 'if then' statement: if my_bool is True than print 'my bool is true'\n"
      ]
    },
    {
      "cell_type": "code",
      "execution_count": null,
      "metadata": {
        "id": "hRHveZeb7vPJ"
      },
      "outputs": [],
      "source": [
        "# make a list: my_list, append an item to the list\n"
      ]
    },
    {
      "cell_type": "code",
      "execution_count": null,
      "metadata": {
        "id": "8CmlwMCE7wx3"
      },
      "outputs": [],
      "source": [
        "# create a 'for loop': for i in range append an item to our list\n"
      ]
    },
    {
      "cell_type": "code",
      "execution_count": null,
      "metadata": {
        "id": "a7ayUHcM7ybr"
      },
      "outputs": [],
      "source": [
        "# index a list, splice a list\n"
      ]
    },
    {
      "cell_type": "code",
      "execution_count": null,
      "metadata": {
        "id": "0dcnPL7C70e7"
      },
      "outputs": [],
      "source": [
        "# make a definition: given a value x, return x * 2 + 10\n"
      ]
    },
    {
      "cell_type": "markdown",
      "metadata": {
        "id": "bdu3obkckuej"
      },
      "source": [
        "## Basics of PyTorch"
      ]
    },
    {
      "cell_type": "code",
      "execution_count": null,
      "metadata": {
        "id": "BHqi_DZEk01y"
      },
      "outputs": [],
      "source": [
        "# import pytorch library\n",
        "import torch"
      ]
    },
    {
      "cell_type": "code",
      "execution_count": null,
      "metadata": {
        "id": "5gGk8_TD74PA"
      },
      "outputs": [],
      "source": [
        "# make an array(vector): (from list), torch.rand, torch.randn, \n",
        "#                        torch.arange, torch.ones, torch.zeros\n"
      ]
    },
    {
      "cell_type": "code",
      "execution_count": null,
      "metadata": {
        "id": "Y0oM5w6i8BjZ"
      },
      "outputs": [],
      "source": [
        "# make a matrix: (from list), torch.rand, torch.randn, \n",
        "#                        torch.arange, torch.ones, torch.zeros\n"
      ]
    },
    {
      "cell_type": "code",
      "execution_count": null,
      "metadata": {
        "id": "WnySvLGH8DVh"
      },
      "outputs": [],
      "source": [
        "# make a tensor: torch.rand, torch.randn, \n",
        "#                torch.arange, torch.ones, torch.zeros\n"
      ]
    },
    {
      "cell_type": "code",
      "execution_count": null,
      "metadata": {
        "id": "qankwbex8GRp"
      },
      "outputs": [],
      "source": [
        "# print shape of arrays: x.shape\n"
      ]
    },
    {
      "cell_type": "code",
      "execution_count": null,
      "metadata": {
        "id": "v3WBwVkm8Iqo"
      },
      "outputs": [],
      "source": [
        "print('cuda is available:', torch.cuda.is_available(), \n",
        "      ', device name:', torch.cuda.get_device_name())\n",
        "\n",
        "# move a tensor to the GPU \n",
        "\n",
        "# print tensor device\n"
      ]
    },
    {
      "cell_type": "code",
      "execution_count": null,
      "metadata": {
        "id": "Ty8KLWWG8TZY"
      },
      "outputs": [],
      "source": [
        "# move a tensor back to the CPU\n",
        "\n",
        "# print tensor device\n"
      ]
    },
    {
      "cell_type": "markdown",
      "metadata": {
        "id": "aPxpDEsFxQr0"
      },
      "source": [
        "## Basic Operations of Linear Algebra in PyTorch"
      ]
    },
    {
      "cell_type": "code",
      "execution_count": null,
      "metadata": {
        "id": "mrUHSD6bxVb0"
      },
      "outputs": [],
      "source": [
        "# perform scalar addition with a vector and a matrix\n",
        "\n",
        "# print results\n"
      ]
    },
    {
      "cell_type": "code",
      "execution_count": null,
      "metadata": {
        "id": "1we4Nxp89WiU"
      },
      "outputs": [],
      "source": [
        "# perform scalar mutliplication with a vector and a matrix\n",
        "\n",
        "# print results\n"
      ]
    },
    {
      "cell_type": "code",
      "execution_count": null,
      "metadata": {
        "id": "ojC5hXz59eOR"
      },
      "outputs": [],
      "source": [
        "# create vectors u and v, print shapes\n",
        "\n",
        "# perform vector addition between vectors u and v\n"
      ]
    },
    {
      "cell_type": "code",
      "execution_count": null,
      "metadata": {
        "id": "CDeJNUTr9rfY"
      },
      "outputs": [],
      "source": [
        "# perform vector multiplication between two vectors u and v\n"
      ]
    },
    {
      "cell_type": "code",
      "execution_count": null,
      "metadata": {
        "id": "jJ3aRfKu9unK"
      },
      "outputs": [],
      "source": [
        "# create vector x and matrix A, print shapes\n",
        "\n",
        "# perform vector matrix mutlitiplication between a vector x and a matrix A\n",
        "\n",
        "# print shape of results\n"
      ]
    },
    {
      "cell_type": "code",
      "execution_count": null,
      "metadata": {
        "id": "nQ6KI7iT93JI"
      },
      "outputs": [],
      "source": [
        "# create a matrix A and a matrix B, print shapes\n",
        "\n",
        "# perform matrix-matrix multiplication between a matrix A and a matrix B\n",
        "\n",
        "# print shape of results\n"
      ]
    },
    {
      "cell_type": "code",
      "execution_count": null,
      "metadata": {
        "id": "0-VTqs-OD_lL"
      },
      "outputs": [],
      "source": [
        "# create a matrix A and a matrix B, print shapes\n",
        "\n",
        "# perform point-wise multiplication(hadamard product) between a matrix A and a matrix B\n",
        "\n",
        "# print shape of results\n"
      ]
    },
    {
      "cell_type": "code",
      "execution_count": null,
      "metadata": {
        "id": "-SIFIShMEJV0"
      },
      "outputs": [],
      "source": [
        "# create a matrix A and a vector v, print shapes\n",
        "\n",
        "# perform the transpose of matrix A and vector v\n",
        "\n",
        "# print shape of results\n"
      ]
    },
    {
      "cell_type": "code",
      "execution_count": null,
      "metadata": {
        "id": "IjI6RqqNES-A"
      },
      "outputs": [],
      "source": [
        "# create a matrix A and a vector v, print shapes\n",
        "\n",
        "# perform addition with broadcasting between A and v\n",
        "\n",
        "# print shape of results\n"
      ]
    },
    {
      "cell_type": "code",
      "execution_count": null,
      "metadata": {
        "id": "MORkNdKdEcid"
      },
      "outputs": [],
      "source": [
        "# create a matrix A and a vector v, print shapes\n",
        "\n",
        "# perform multiplication with broadcasting between A and v\n",
        "\n",
        "# print shape of results"
      ]
    },
    {
      "cell_type": "code",
      "execution_count": null,
      "metadata": {
        "id": "kEiaQ80RE8Na"
      },
      "outputs": [],
      "source": [
        "# create a vector v and a vector u, print shapes\n",
        "\n",
        "# perform outer product on vector v and vector u\n"
      ]
    },
    {
      "cell_type": "markdown",
      "metadata": {
        "id": "efKyPX82FWRG"
      },
      "source": [
        "### Tensors"
      ]
    },
    {
      "cell_type": "code",
      "execution_count": null,
      "metadata": {
        "id": "1LFVbK_6FszH"
      },
      "outputs": [],
      "source": [
        "# create a 3 dimension tensor, print tensor, print tensor shape\n"
      ]
    },
    {
      "cell_type": "code",
      "execution_count": null,
      "metadata": {
        "id": "ykCw16L6Fze3"
      },
      "outputs": [],
      "source": [
        "# create a matrix A and a matrix B, print shapes\n",
        "\n",
        "# perform matrix multiplication between a 3 dimension tensor A and a 3 dimensional tensor B\n",
        "# (8, 3, 3) and (8, 3, 2) -> ???\n",
        "# first dimension must match between A and B\n",
        "# last dimension of A must match second dimension of B\n",
        "\n"
      ]
    }
  ],
  "metadata": {
    "accelerator": "GPU",
    "colab": {
      "provenance": []
    },
    "gpuClass": "standard",
    "kernelspec": {
      "display_name": "Python 3",
      "name": "python3"
    },
    "language_info": {
      "name": "python"
    }
  },
  "nbformat": 4,
  "nbformat_minor": 0
}
