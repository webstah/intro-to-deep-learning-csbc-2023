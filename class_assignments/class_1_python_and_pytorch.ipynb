{
  "cells": [
    {
      "cell_type": "markdown",
      "metadata": {
        "id": "qgtwgxvZkFBA"
      },
      "source": [
        "## Python Review"
      ]
    },
    {
      "cell_type": "code",
      "execution_count": null,
      "metadata": {
        "id": "7MHuu4d4kEVD"
      },
      "outputs": [],
      "source": [
        "# print 'hello'\n"
      ]
    },
    {
      "cell_type": "code",
      "execution_count": null,
      "metadata": {
        "id": "kFSPe7nk7q4y"
      },
      "outputs": [],
      "source": [
        "# declare a variable: integer, float, bool, string\n"
      ]
    },
    {
      "cell_type": "code",
      "execution_count": null,
      "metadata": {
        "id": "ntyP_1x87siQ"
      },
      "outputs": [],
      "source": [
        "# make an 'if then' statement: if my_bool is True than print 'my bool is true'\n"
      ]
    },
    {
      "cell_type": "code",
      "execution_count": null,
      "metadata": {
        "id": "hRHveZeb7vPJ"
      },
      "outputs": [],
      "source": [
        "# make a list: my_list, append an item to the list\n"
      ]
    },
    {
      "cell_type": "code",
      "execution_count": null,
      "metadata": {
        "id": "8CmlwMCE7wx3"
      },
      "outputs": [],
      "source": [
        "# create a 'for loop': for i in range append an item to our list\n"
      ]
    },
    {
      "cell_type": "code",
      "execution_count": null,
      "metadata": {
        "id": "a7ayUHcM7ybr"
      },
      "outputs": [],
      "source": [
        "# index a list, splice a list\n"
      ]
    },
    {
      "cell_type": "code",
      "execution_count": null,
      "metadata": {
        "id": "0dcnPL7C70e7"
      },
      "outputs": [],
      "source": [
        "# make a definition: given a value x, return x * 2 + 10\n"
      ]
    },
    {
      "cell_type": "markdown",
      "metadata": {
        "id": "bdu3obkckuej"
      },
      "source": [
        "## Basics of PyTorch"
      ]
    },
    {
      "cell_type": "code",
      "execution_count": 1,
      "metadata": {
        "id": "BHqi_DZEk01y"
      },
      "outputs": [
        {
          "name": "stderr",
          "output_type": "stream",
          "text": [
            "/home/webster/.virtualenvs/torch_310/lib/python3.10/site-packages/tqdm/auto.py:22: TqdmWarning: IProgress not found. Please update jupyter and ipywidgets. See https://ipywidgets.readthedocs.io/en/stable/user_install.html\n",
            "  from .autonotebook import tqdm as notebook_tqdm\n"
          ]
        }
      ],
      "source": [
        "# import pytorch library\n",
        "import torch"
      ]
    },
    {
      "cell_type": "code",
      "execution_count": null,
      "metadata": {
        "id": "5gGk8_TD74PA"
      },
      "outputs": [],
      "source": [
        "# make an array(vector): (from list), torch.rand, torch.randn, \n",
        "#                        torch.arange, torch.ones, torch.zeros\n"
      ]
    },
    {
      "cell_type": "code",
      "execution_count": null,
      "metadata": {
        "id": "Y0oM5w6i8BjZ"
      },
      "outputs": [],
      "source": [
        "# make a matrix: (from list), torch.rand, torch.randn, \n",
        "#                        torch.arange, torch.ones, torch.zeros\n"
      ]
    },
    {
      "cell_type": "code",
      "execution_count": null,
      "metadata": {
        "id": "WnySvLGH8DVh"
      },
      "outputs": [],
      "source": [
        "# make a tensor: torch.rand, torch.randn, \n",
        "#                torch.arange, torch.ones, torch.zeros\n"
      ]
    },
    {
      "cell_type": "code",
      "execution_count": null,
      "metadata": {
        "id": "qankwbex8GRp"
      },
      "outputs": [],
      "source": [
        "# print shape of arrays: x.shape\n"
      ]
    },
    {
      "cell_type": "code",
      "execution_count": null,
      "metadata": {
        "id": "v3WBwVkm8Iqo"
      },
      "outputs": [],
      "source": [
        "print('cuda is available:', torch.cuda.is_available(), \n",
        "      ', device name:', torch.cuda.get_device_name())\n",
        "\n",
        "# move a tensor to the GPU \n",
        "\n",
        "# print tensor device\n"
      ]
    },
    {
      "cell_type": "code",
      "execution_count": null,
      "metadata": {
        "id": "Ty8KLWWG8TZY"
      },
      "outputs": [],
      "source": [
        "# move a tensor back to the CPU\n",
        "\n",
        "# print tensor device\n"
      ]
    },
    {
      "cell_type": "markdown",
      "metadata": {
        "id": "aPxpDEsFxQr0"
      },
      "source": [
        "## Basic Operations of Linear Algebra in PyTorch"
      ]
    },
    {
      "cell_type": "code",
      "execution_count": null,
      "metadata": {
        "id": "mrUHSD6bxVb0"
      },
      "outputs": [],
      "source": [
        "# perform scalar addition with a vector and a matrix\n",
        "\n",
        "# print results\n"
      ]
    },
    {
      "cell_type": "code",
      "execution_count": null,
      "metadata": {
        "id": "1we4Nxp89WiU"
      },
      "outputs": [],
      "source": [
        "# perform scalar mutliplication with a vector and a matrix\n",
        "\n",
        "# print results\n"
      ]
    },
    {
      "cell_type": "code",
      "execution_count": null,
      "metadata": {
        "id": "ojC5hXz59eOR"
      },
      "outputs": [],
      "source": [
        "# create vectors u and v, print shapes\n",
        "\n",
        "# perform vector addition between vectors u and v\n"
      ]
    },
    {
      "cell_type": "code",
      "execution_count": null,
      "metadata": {
        "id": "CDeJNUTr9rfY"
      },
      "outputs": [],
      "source": [
        "# perform vector multiplication between two vectors u and v\n"
      ]
    },
    {
      "cell_type": "code",
      "execution_count": null,
      "metadata": {
        "id": "jJ3aRfKu9unK"
      },
      "outputs": [],
      "source": [
        "# create vector x and matrix A, print shapes\n",
        "\n",
        "# perform vector matrix mutlitiplication between a vector x and a matrix A\n",
        "\n",
        "# print shape of results\n"
      ]
    },
    {
      "cell_type": "code",
      "execution_count": null,
      "metadata": {
        "id": "nQ6KI7iT93JI"
      },
      "outputs": [],
      "source": [
        "# create a matrix A and a matrix B, print shapes\n",
        "\n",
        "# perform matrix-matrix multiplication between a matrix A and a matrix B\n",
        "\n",
        "# print shape of results\n"
      ]
    },
    {
      "cell_type": "code",
      "execution_count": null,
      "metadata": {
        "id": "0-VTqs-OD_lL"
      },
      "outputs": [],
      "source": [
        "# create a matrix A and a matrix B, print shapes\n",
        "\n",
        "# perform point-wise multiplication(hadamard product) between a matrix A and a matrix B\n",
        "\n",
        "# print shape of results\n"
      ]
    },
    {
      "cell_type": "code",
      "execution_count": null,
      "metadata": {
        "id": "-SIFIShMEJV0"
      },
      "outputs": [],
      "source": [
        "# create a matrix A and a vector v, print shapes\n",
        "\n",
        "# perform the transpose of matrix A and vector v\n",
        "\n",
        "# print shape of results\n"
      ]
    },
    {
      "cell_type": "code",
      "execution_count": null,
      "metadata": {
        "id": "IjI6RqqNES-A"
      },
      "outputs": [],
      "source": [
        "# create a matrix A and a vector v, print shapes\n",
        "\n",
        "# perform addition with broadcasting between A and v\n",
        "\n",
        "# print shape of results\n"
      ]
    },
    {
      "cell_type": "code",
      "execution_count": null,
      "metadata": {
        "id": "MORkNdKdEcid"
      },
      "outputs": [],
      "source": [
        "# create a matrix A and a vector v, print shapes\n",
        "\n",
        "# perform multiplication with broadcasting between A and v\n",
        "\n",
        "# print shape of results"
      ]
    },
    {
      "cell_type": "code",
      "execution_count": 4,
      "metadata": {
        "id": "kEiaQ80RE8Na"
      },
      "outputs": [
        {
          "data": {
            "text/plain": [
              "tensor([[0.4622, 0.4253, 0.4369, 0.5235, 0.5317, 0.2228, 0.5020, 0.2503],\n",
              "        [0.3992, 0.3673, 0.3773, 0.4521, 0.4592, 0.1924, 0.4335, 0.2162],\n",
              "        [0.0660, 0.0607, 0.0623, 0.0747, 0.0759, 0.0318, 0.0716, 0.0357],\n",
              "        [0.0823, 0.0757, 0.0777, 0.0932, 0.0946, 0.0396, 0.0893, 0.0445],\n",
              "        [0.3878, 0.3569, 0.3666, 0.4393, 0.4462, 0.1869, 0.4212, 0.2100],\n",
              "        [0.5850, 0.5383, 0.5529, 0.6625, 0.6730, 0.2819, 0.6353, 0.3168],\n",
              "        [0.5508, 0.5068, 0.5206, 0.6238, 0.6337, 0.2655, 0.5982, 0.2983],\n",
              "        [0.0691, 0.0636, 0.0653, 0.0783, 0.0795, 0.0333, 0.0751, 0.0374]])"
            ]
          },
          "execution_count": 4,
          "metadata": {},
          "output_type": "execute_result"
        }
      ],
      "source": [
        "# create a vector v and a vector u, print shapes\n",
        "\n",
        "# perform outer product on vector v and vector u\n",
        "v = torch.rand(8)\n",
        "u = torch.rand(8)\n",
        "torch.outer(u, v)"
      ]
    },
    {
      "cell_type": "markdown",
      "metadata": {
        "id": "efKyPX82FWRG"
      },
      "source": [
        "### Tensors"
      ]
    },
    {
      "cell_type": "code",
      "execution_count": null,
      "metadata": {
        "id": "1LFVbK_6FszH"
      },
      "outputs": [],
      "source": [
        "# create a 3 dimension tensor, print tensor, print tensor shape\n"
      ]
    },
    {
      "cell_type": "code",
      "execution_count": 3,
      "metadata": {
        "id": "ykCw16L6Fze3"
      },
      "outputs": [
        {
          "data": {
            "text/plain": [
              "tensor([[[0.9871, 0.9204],\n",
              "         [1.0615, 1.0675],\n",
              "         [0.9607, 0.8765]],\n",
              "\n",
              "        [[0.6538, 0.4842],\n",
              "         [0.9587, 1.2650],\n",
              "         [0.7895, 1.0669]]])"
            ]
          },
          "execution_count": 3,
          "metadata": {},
          "output_type": "execute_result"
        }
      ],
      "source": [
        "# create a matrix A and a matrix B, print shapes\n",
        "\n",
        "# perform matrix multiplication between a 3 dimension tensor A and a 3 dimensional tensor B\n",
        "# (8, 3, 3) and (8, 3, 2) -> ???\n",
        "# first dimension must match between A and B\n",
        "# last dimension of A must match second dimension of B\n",
        "\n",
        "A = torch.rand(2, 3, 3)\n",
        "B = torch.rand(2, 3, 2)\n",
        "\n",
        "torch.bmm(A, B)"
      ]
    }
  ],
  "metadata": {
    "accelerator": "GPU",
    "colab": {
      "provenance": []
    },
    "gpuClass": "standard",
    "kernelspec": {
      "display_name": "torch_310",
      "language": "python",
      "name": "python3"
    },
    "language_info": {
      "codemirror_mode": {
        "name": "ipython",
        "version": 3
      },
      "file_extension": ".py",
      "mimetype": "text/x-python",
      "name": "python",
      "nbconvert_exporter": "python",
      "pygments_lexer": "ipython3",
      "version": "3.10.6"
    },
    "vscode": {
      "interpreter": {
        "hash": "c9da3d56ffdc97607f191e5b9c6431043c903c2295bd799ca4e7536541698e73"
      }
    }
  },
  "nbformat": 4,
  "nbformat_minor": 0
}
