{
  "cells": [
    {
      "cell_type": "markdown",
      "metadata": {
        "id": "qgtwgxvZkFBA"
      },
      "source": [
        "## Python Review"
      ]
    },
    {
      "cell_type": "code",
      "execution_count": 1,
      "metadata": {
        "id": "7MHuu4d4kEVD",
        "outputId": "ad86952a-b595-4349-cbad-95bb19b1127b",
        "colab": {
          "base_uri": "https://localhost:8080/"
        }
      },
      "outputs": [
        {
          "output_type": "stream",
          "name": "stdout",
          "text": [
            "hello\n"
          ]
        }
      ],
      "source": [
        "# print 'hello'\n",
        "print('hello')"
      ]
    },
    {
      "cell_type": "code",
      "execution_count": 2,
      "metadata": {
        "id": "kFSPe7nk7q4y",
        "outputId": "a8fd10f1-a780-49d9-97c0-7fc021f31cac",
        "colab": {
          "base_uri": "https://localhost:8080/"
        }
      },
      "outputs": [
        {
          "output_type": "stream",
          "name": "stdout",
          "text": [
            "<class 'int'> <class 'float'>\n"
          ]
        }
      ],
      "source": [
        "# declare a variable: integer, float, bool, string\n",
        "my_integer = 5\n",
        "my_float = 5.2\n",
        "print(type(my_integer), type(my_float))\n",
        "\n",
        "my_bool = True\n",
        "my_other_bool = False\n",
        "\n",
        "my_string = 'hello my name is matt'\n",
        "\n",
        "# integer vs float ???\n",
        "# float 1.22222222222, 1.32092043, -122.0, 1.0, 9.0, intgers 1, 2, 3, 10000, -5, -11000"
      ]
    },
    {
      "cell_type": "code",
      "execution_count": 6,
      "metadata": {
        "id": "ntyP_1x87siQ",
        "outputId": "6aadeed7-0543-49e1-cd58-566af199febc",
        "colab": {
          "base_uri": "https://localhost:8080/"
        }
      },
      "outputs": [
        {
          "output_type": "stream",
          "name": "stdout",
          "text": [
            "true\n",
            "> 0.5\n"
          ]
        }
      ],
      "source": [
        "# make an 'if then' statement: if my_bool is True than print 'my bool is true'\n",
        "my_bool = True\n",
        "if my_bool == True:\n",
        "  print('true')\n",
        "\n",
        "val = 0.7\n",
        "if val > 0.5:\n",
        "  print('> 0.5')\n",
        "elif val <= 0.5:\n",
        "  print('<= 0.5')\n",
        "\n",
        "# ==, <, >, <=, >=, !="
      ]
    },
    {
      "cell_type": "code",
      "execution_count": 10,
      "metadata": {
        "id": "hRHveZeb7vPJ",
        "outputId": "caec81a5-f644-4087-f45c-d1a6cfae1464",
        "colab": {
          "base_uri": "https://localhost:8080/"
        }
      },
      "outputs": [
        {
          "output_type": "stream",
          "name": "stdout",
          "text": [
            "5\n",
            "[1, 2, 3, 4, 5, 5]\n",
            "[1, 2, 3, 4, 5, 5, 10, 6]\n"
          ]
        }
      ],
      "source": [
        "# make a list: my_list, append an item to the list\n",
        "my_list = [1, 2, 3, 4, 5]\n",
        "print(len(my_list))\n",
        "\n",
        "my_list.append(5)\n",
        "print(my_list)\n",
        "\n",
        "my_list = my_list + [10, 6]\n",
        "print(my_list)"
      ]
    },
    {
      "cell_type": "code",
      "execution_count": 15,
      "metadata": {
        "id": "8CmlwMCE7wx3",
        "outputId": "7ff33e7c-b614-49ed-da6a-9484c18cbe2d",
        "colab": {
          "base_uri": "https://localhost:8080/"
        }
      },
      "outputs": [
        {
          "output_type": "stream",
          "name": "stdout",
          "text": [
            "1a\n",
            "2a\n",
            "3a\n"
          ]
        }
      ],
      "source": [
        "# create a 'for loop': for i in range append an item to our list\n",
        "my_list = ['1a', '2a', '3a']\n",
        "for i in my_list:\n",
        "  print(i)"
      ]
    },
    {
      "cell_type": "code",
      "execution_count": 18,
      "metadata": {
        "id": "a7ayUHcM7ybr",
        "outputId": "9adf2789-f4e1-4a8e-c42c-543368dd4115",
        "colab": {
          "base_uri": "https://localhost:8080/"
        }
      },
      "outputs": [
        {
          "output_type": "stream",
          "name": "stdout",
          "text": [
            "3\n",
            "[3, 4, 5]\n"
          ]
        }
      ],
      "source": [
        "# index a list, splice a list\n",
        "my_list = [1, 2, 3, 4, 5, 6, 7, 8, 9, 10]\n",
        "\n",
        "print(my_list[2])\n",
        "\n",
        "print(my_list[2:5])"
      ]
    },
    {
      "cell_type": "code",
      "execution_count": 21,
      "metadata": {
        "id": "0dcnPL7C70e7",
        "outputId": "6682c313-6747-4df7-8241-de3e050d903c",
        "colab": {
          "base_uri": "https://localhost:8080/"
        }
      },
      "outputs": [
        {
          "output_type": "stream",
          "name": "stdout",
          "text": [
            "100\n"
          ]
        }
      ],
      "source": [
        "# make a definition: given a value x, return x * 2 + 10\n",
        "\n",
        "def give_me_a_number(num):\n",
        "  if num > 1:\n",
        "    val = 100\n",
        "  elif num <= 1:\n",
        "    val = 0\n",
        "  return val\n",
        "\n",
        "val = give_me_a_number(2)\n",
        "print(val)"
      ]
    },
    {
      "cell_type": "markdown",
      "metadata": {
        "id": "bdu3obkckuej"
      },
      "source": [
        "## Basics of PyTorch"
      ]
    },
    {
      "cell_type": "code",
      "execution_count": 22,
      "metadata": {
        "id": "BHqi_DZEk01y"
      },
      "outputs": [],
      "source": [
        "# import pytorch library\n",
        "import torch"
      ]
    },
    {
      "cell_type": "code",
      "execution_count": 60,
      "metadata": {
        "id": "5gGk8_TD74PA",
        "outputId": "14d7ef67-26c5-430b-f337-1338b69de101",
        "colab": {
          "base_uri": "https://localhost:8080/"
        }
      },
      "outputs": [
        {
          "output_type": "stream",
          "name": "stdout",
          "text": [
            "tensor([1.0000, 1.5000, 2.0000, 2.6000, 3.8000])\n",
            "tensor([0.0748, 0.0151, 0.0662, 0.1557, 0.8632, 0.2478, 0.0996, 0.6463, 0.4178,\n",
            "        0.7835])\n",
            "tensor([[1., 1., 1., 1., 1., 1., 1., 1., 1., 1.],\n",
            "        [1., 1., 1., 1., 1., 1., 1., 1., 1., 1.],\n",
            "        [1., 1., 1., 1., 1., 1., 1., 1., 1., 1.],\n",
            "        [1., 1., 1., 1., 1., 1., 1., 1., 1., 1.],\n",
            "        [1., 1., 1., 1., 1., 1., 1., 1., 1., 1.],\n",
            "        [1., 1., 1., 1., 1., 1., 1., 1., 1., 1.],\n",
            "        [1., 1., 1., 1., 1., 1., 1., 1., 1., 1.],\n",
            "        [1., 1., 1., 1., 1., 1., 1., 1., 1., 1.],\n",
            "        [1., 1., 1., 1., 1., 1., 1., 1., 1., 1.],\n",
            "        [1., 1., 1., 1., 1., 1., 1., 1., 1., 1.]])\n"
          ]
        }
      ],
      "source": [
        "# make an array(vector): (from list), torch.rand, torch.randn, \n",
        "#                        torch.arange, torch.ones, torch.zeros\n",
        "array_from_list = torch.FloatTensor([1.0, 1.5, 2.0, 2.6, 3.8])\n",
        "print(array_from_list)\n",
        "array = torch.rand(10)\n",
        "print(array)\n",
        "array_1 = torch.ones(10, 10)\n",
        "print(array_1)"
      ]
    },
    {
      "cell_type": "code",
      "execution_count": 61,
      "metadata": {
        "id": "Y0oM5w6i8BjZ",
        "outputId": "ba7f7012-2f13-41cf-ce8f-86bf996b1f2b",
        "colab": {
          "base_uri": "https://localhost:8080/"
        }
      },
      "outputs": [
        {
          "output_type": "stream",
          "name": "stdout",
          "text": [
            "torch.Size([100, 10, 10])\n"
          ]
        }
      ],
      "source": [
        "# make a matrix:\n",
        "tensor = torch.randn(100, 10, 10)\n",
        "print(tensor.shape)"
      ]
    },
    {
      "cell_type": "code",
      "execution_count": 62,
      "metadata": {
        "id": "v3WBwVkm8Iqo",
        "outputId": "fc5fc286-c395-4c15-d971-7c390445c874",
        "colab": {
          "base_uri": "https://localhost:8080/"
        }
      },
      "outputs": [
        {
          "output_type": "stream",
          "name": "stdout",
          "text": [
            "cuda is available: True , device name: Tesla T4\n",
            "torch.Size([10, 10, 10]) cpu\n",
            "torch.Size([10, 10, 10]) cuda:0\n"
          ]
        }
      ],
      "source": [
        "print('cuda is available:', torch.cuda.is_available(), \n",
        "      ', device name:', torch.cuda.get_device_name())\n",
        "\n",
        "# move a tensor to the GPU\n",
        "tensor = torch.randn(10, 10, 10)\n",
        "print(tensor.shape, tensor.device)\n",
        "\n",
        "tensor = tensor.cuda()\n",
        "print(tensor.shape, tensor.device)"
      ]
    },
    {
      "cell_type": "code",
      "execution_count": 63,
      "metadata": {
        "id": "Ty8KLWWG8TZY",
        "outputId": "0619d50c-6b12-449a-e9dd-b350327b6beb",
        "colab": {
          "base_uri": "https://localhost:8080/"
        }
      },
      "outputs": [
        {
          "output_type": "stream",
          "name": "stdout",
          "text": [
            "torch.Size([10, 10, 10]) cuda:0\n",
            "torch.Size([10, 10, 10]) cpu\n"
          ]
        }
      ],
      "source": [
        "# move a tensor back to the CPU\n",
        "tensor = torch.randn(10, 10, 10).cuda()\n",
        "print(tensor.shape, tensor.device)\n",
        "tensor = tensor.cpu()\n",
        "print(tensor.shape, tensor.device)"
      ]
    },
    {
      "cell_type": "markdown",
      "metadata": {
        "id": "aPxpDEsFxQr0"
      },
      "source": [
        "## Basic Operations of Linear Algebra in PyTorch"
      ]
    },
    {
      "cell_type": "code",
      "execution_count": 65,
      "metadata": {
        "id": "mrUHSD6bxVb0",
        "outputId": "9b00484a-3228-4b08-df65-bf40a35e62df",
        "colab": {
          "base_uri": "https://localhost:8080/"
        }
      },
      "outputs": [
        {
          "output_type": "stream",
          "name": "stdout",
          "text": [
            "tensor([[0., 0., 0., 0., 0., 0., 0., 0.],\n",
            "        [0., 0., 0., 0., 0., 0., 0., 0.],\n",
            "        [0., 0., 0., 0., 0., 0., 0., 0.],\n",
            "        [0., 0., 0., 0., 0., 0., 0., 0.],\n",
            "        [0., 0., 0., 0., 0., 0., 0., 0.],\n",
            "        [0., 0., 0., 0., 0., 0., 0., 0.],\n",
            "        [0., 0., 0., 0., 0., 0., 0., 0.],\n",
            "        [0., 0., 0., 0., 0., 0., 0., 0.]])\n",
            "tensor([[2., 2., 2., 2., 2., 2., 2., 2.],\n",
            "        [2., 2., 2., 2., 2., 2., 2., 2.],\n",
            "        [2., 2., 2., 2., 2., 2., 2., 2.],\n",
            "        [2., 2., 2., 2., 2., 2., 2., 2.],\n",
            "        [2., 2., 2., 2., 2., 2., 2., 2.],\n",
            "        [2., 2., 2., 2., 2., 2., 2., 2.],\n",
            "        [2., 2., 2., 2., 2., 2., 2., 2.],\n",
            "        [2., 2., 2., 2., 2., 2., 2., 2.]])\n"
          ]
        }
      ],
      "source": [
        "# perform scalar addition with a vector and a matrix\n",
        "matrix = torch.zeros(8, 8)\n",
        "print(matrix)\n",
        "print(matrix + 2)"
      ]
    },
    {
      "cell_type": "code",
      "execution_count": 66,
      "metadata": {
        "id": "1we4Nxp89WiU",
        "outputId": "6f32d719-eccc-475b-fe71-91541823a7eb",
        "colab": {
          "base_uri": "https://localhost:8080/"
        }
      },
      "outputs": [
        {
          "output_type": "stream",
          "name": "stdout",
          "text": [
            "tensor([[1., 1., 1., 1., 1., 1., 1., 1.],\n",
            "        [1., 1., 1., 1., 1., 1., 1., 1.],\n",
            "        [1., 1., 1., 1., 1., 1., 1., 1.],\n",
            "        [1., 1., 1., 1., 1., 1., 1., 1.],\n",
            "        [1., 1., 1., 1., 1., 1., 1., 1.],\n",
            "        [1., 1., 1., 1., 1., 1., 1., 1.],\n",
            "        [1., 1., 1., 1., 1., 1., 1., 1.],\n",
            "        [1., 1., 1., 1., 1., 1., 1., 1.]])\n",
            "tensor([[5., 5., 5., 5., 5., 5., 5., 5.],\n",
            "        [5., 5., 5., 5., 5., 5., 5., 5.],\n",
            "        [5., 5., 5., 5., 5., 5., 5., 5.],\n",
            "        [5., 5., 5., 5., 5., 5., 5., 5.],\n",
            "        [5., 5., 5., 5., 5., 5., 5., 5.],\n",
            "        [5., 5., 5., 5., 5., 5., 5., 5.],\n",
            "        [5., 5., 5., 5., 5., 5., 5., 5.],\n",
            "        [5., 5., 5., 5., 5., 5., 5., 5.]])\n"
          ]
        }
      ],
      "source": [
        "# perform scalar mutliplication with a vector and a matrix\n",
        "matrix = torch.ones(8, 8)\n",
        "print(matrix)\n",
        "print(matrix * 5)"
      ]
    },
    {
      "cell_type": "code",
      "execution_count": 67,
      "metadata": {
        "id": "ojC5hXz59eOR",
        "outputId": "281583ac-42fa-424d-dbd9-5f46bffa6510",
        "colab": {
          "base_uri": "https://localhost:8080/"
        }
      },
      "outputs": [
        {
          "output_type": "stream",
          "name": "stdout",
          "text": [
            "tensor([0.1420, 0.6750, 0.6774, 0.7386, 0.0827, 0.5492, 0.7006, 0.0089, 0.4120,\n",
            "        0.9836])\n",
            "tensor([1., 1., 1., 1., 1., 1., 1., 1., 1., 1.])\n",
            "tensor([1.1420, 1.6750, 1.6774, 1.7386, 1.0827, 1.5492, 1.7006, 1.0089, 1.4120,\n",
            "        1.9836])\n"
          ]
        }
      ],
      "source": [
        "# create vectors u and v, print shapes\n",
        "u = torch.rand(10)\n",
        "v = torch.ones(10)\n",
        "# perform vector addition between vectors u and v\n",
        "print(u)\n",
        "print(v)\n",
        "print(u + v)"
      ]
    },
    {
      "cell_type": "code",
      "execution_count": 68,
      "metadata": {
        "id": "nQ6KI7iT93JI",
        "outputId": "2fb89a1c-39bc-4bd2-ec0d-f63d7a53dfd3",
        "colab": {
          "base_uri": "https://localhost:8080/"
        }
      },
      "outputs": [
        {
          "output_type": "stream",
          "name": "stdout",
          "text": [
            "torch.Size([3, 2]) torch.Size([2, 1])\n",
            "torch.Size([3, 1])\n"
          ]
        }
      ],
      "source": [
        "# perform matrix-matrix multiplication between a matrix A and a matrix B\n",
        "\n",
        "A = torch.rand(3, 2)\n",
        "B = torch.rand(2, 1)\n",
        "print(A.shape, B.shape)\n",
        "\n",
        "result = torch.mm(A, B)\n",
        "print(result.shape)\n",
        "\n",
        "# result_b = A * B -> gives error because shapes (3, 2) and (2, 1) do not match.\n",
        "\n",
        "# Matrix Multiplication\n",
        "# A (axb), B(cxd)\n",
        "# b = c\n",
        "\n",
        "# element-wise matrix multiplication\n",
        "# A (axb), B(cxd)\n",
        "# a = c and b = d\n",
        "\n",
        "# broadcasting\n",
        "#A (axb), B(cx1)\n",
        "# c = a\n"
      ]
    },
    {
      "cell_type": "code",
      "execution_count": 69,
      "metadata": {
        "id": "0-VTqs-OD_lL",
        "outputId": "06f060d3-cc27-4f4c-962c-8f00086bb6fb",
        "colab": {
          "base_uri": "https://localhost:8080/"
        }
      },
      "outputs": [
        {
          "output_type": "stream",
          "name": "stdout",
          "text": [
            "torch.Size([3, 2]) torch.Size([3, 2])\n",
            "torch.Size([3, 2])\n"
          ]
        }
      ],
      "source": [
        "# create a matrix A and a matrix B, print shapes\n",
        "\n",
        "A = torch.rand(3, 2)\n",
        "B = torch.rand(3, 2)\n",
        "print(A.shape, B.shape)\n",
        "\n",
        "result = A * B\n",
        "print(result.shape)"
      ]
    },
    {
      "cell_type": "code",
      "execution_count": 57,
      "metadata": {
        "id": "-SIFIShMEJV0",
        "outputId": "89638d38-44d7-4d69-e480-884d28eb3584",
        "colab": {
          "base_uri": "https://localhost:8080/"
        }
      },
      "outputs": [
        {
          "output_type": "stream",
          "name": "stdout",
          "text": [
            "torch.Size([3, 9])\n",
            "torch.Size([9, 3])\n",
            "torch.Size([100, 3, 16, 16])\n",
            "torch.Size([16, 16, 3, 100])\n"
          ]
        }
      ],
      "source": [
        "# create a matrix A and a vector v, print shapes\n",
        "A_T = torch.randn(3, 9)\n",
        "print(A_T.shape)\n",
        "\n",
        "A_T = A.transpose(1, 0)\n",
        "print(A_T.shape)\n",
        "# perform the transpose of matrix A and vector v\n",
        "\n",
        "# print shape of results\n",
        "matrix = torch.randn(100, 3, 16, 16)\n",
        "print(matrix.shape)\n",
        "\n",
        "# permute\n",
        "matrix_p = matrix.permute(3, 2, 1, 0)\n",
        "print(matrix_p.shape)"
      ]
    },
    {
      "cell_type": "code",
      "execution_count": 70,
      "metadata": {
        "id": "IjI6RqqNES-A",
        "outputId": "bf1ffa3a-16db-40d2-ba45-7bc6cce368d7",
        "colab": {
          "base_uri": "https://localhost:8080/"
        }
      },
      "outputs": [
        {
          "output_type": "stream",
          "name": "stdout",
          "text": [
            "torch.Size([3, 2]) torch.Size([3, 1])\n",
            "torch.Size([3, 2])\n"
          ]
        }
      ],
      "source": [
        "# perform addition with broadcasting between A and v\n",
        "A = torch.rand(3, 2)\n",
        "B = torch.rand(3, 1)\n",
        "print(A.shape, B.shape)\n",
        "\n",
        "result = A + B\n",
        "print(result.shape)"
      ]
    },
    {
      "cell_type": "code",
      "execution_count": 71,
      "metadata": {
        "id": "MORkNdKdEcid",
        "outputId": "36148b27-4680-4126-8837-ec4a693a5f25",
        "colab": {
          "base_uri": "https://localhost:8080/"
        }
      },
      "outputs": [
        {
          "output_type": "stream",
          "name": "stdout",
          "text": [
            "torch.Size([3, 2]) torch.Size([3, 1])\n",
            "torch.Size([3, 2])\n"
          ]
        }
      ],
      "source": [
        "# perform multiplication with broadcasting between A and v\n",
        "A = torch.rand(3, 2)\n",
        "B = torch.rand(3, 1)\n",
        "print(A.shape, B.shape)\n",
        "\n",
        "result = A + B\n",
        "print(result.shape)"
      ]
    },
    {
      "cell_type": "code",
      "execution_count": 74,
      "metadata": {
        "id": "kEiaQ80RE8Na",
        "outputId": "1db316db-ec1d-4c74-8fe2-57f6617179a9",
        "colab": {
          "base_uri": "https://localhost:8080/"
        }
      },
      "outputs": [
        {
          "output_type": "stream",
          "name": "stdout",
          "text": [
            "tensor([[0.1000, 0.2000, 0.3000, 0.4000, 0.5000, 0.6000],\n",
            "        [0.2000, 0.4000, 0.6000, 0.8000, 1.0000, 1.2000],\n",
            "        [0.3000, 0.6000, 0.9000, 1.2000, 1.5000, 1.8000],\n",
            "        [0.4000, 0.8000, 1.2000, 1.6000, 2.0000, 2.4000],\n",
            "        [0.5000, 1.0000, 1.5000, 2.0000, 2.5000, 3.0000],\n",
            "        [0.6000, 1.2000, 1.8000, 2.4000, 3.0000, 3.6000]]) torch.Size([6, 6])\n"
          ]
        }
      ],
      "source": [
        "# create a vector v and a vector u, print shapes\n",
        "v = torch.FloatTensor([1, 2, 3, 4, 5, 6])\n",
        "u = torch.FloatTensor([0.1, 0.2, 0.3, 0.4, 0.5, 0.6])\n",
        "# perform outer product on vector v and vector u\n",
        "outer = torch.outer(v, u)\n",
        "print(outer, outer.shape)"
      ]
    }
  ],
  "metadata": {
    "accelerator": "GPU",
    "colab": {
      "provenance": []
    },
    "gpuClass": "standard",
    "kernelspec": {
      "display_name": "Python 3",
      "name": "python3"
    },
    "language_info": {
      "name": "python"
    }
  },
  "nbformat": 4,
  "nbformat_minor": 0
}