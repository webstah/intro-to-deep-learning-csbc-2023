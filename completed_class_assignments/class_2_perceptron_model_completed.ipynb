{
  "cells": [
    {
      "cell_type": "code",
      "execution_count": 35,
      "metadata": {
        "id": "sdQInHfmBmks"
      },
      "outputs": [],
      "source": [
        "# We will classify the two flowers Setosa and Versicolor using the perceptron model.\n",
        "# The input features to our model will be the flowers sepal length and petal length.\n",
        "# This work is based on tutorial here: https://sebastianraschka.com/Articles/2015_singlelayer_neurons.html#artificial-neurons-and-the-mcculloch-pitts-model\n",
        "\n",
        "# load flower dataset\n",
        "import pandas as pd\n",
        "df = pd.read_csv('https://archive.ics.uci.edu/ml/machine-learning-databases/iris/iris.data', header=None)"
      ]
    },
    {
      "cell_type": "code",
      "source": [
        "print(df)"
      ],
      "metadata": {
        "id": "kv_pYG44lJ1T",
        "outputId": "b4b2ac8c-a12e-44df-ab61-d6de2700967c",
        "colab": {
          "base_uri": "https://localhost:8080/"
        }
      },
      "execution_count": 36,
      "outputs": [
        {
          "output_type": "stream",
          "name": "stdout",
          "text": [
            "       0    1    2    3               4\n",
            "0    5.1  3.5  1.4  0.2     Iris-setosa\n",
            "1    4.9  3.0  1.4  0.2     Iris-setosa\n",
            "2    4.7  3.2  1.3  0.2     Iris-setosa\n",
            "3    4.6  3.1  1.5  0.2     Iris-setosa\n",
            "4    5.0  3.6  1.4  0.2     Iris-setosa\n",
            "..   ...  ...  ...  ...             ...\n",
            "145  6.7  3.0  5.2  2.3  Iris-virginica\n",
            "146  6.3  2.5  5.0  1.9  Iris-virginica\n",
            "147  6.5  3.0  5.2  2.0  Iris-virginica\n",
            "148  6.2  3.4  5.4  2.3  Iris-virginica\n",
            "149  5.9  3.0  5.1  1.8  Iris-virginica\n",
            "\n",
            "[150 rows x 5 columns]\n"
          ]
        }
      ]
    },
    {
      "cell_type": "code",
      "execution_count": 37,
      "metadata": {
        "id": "qaGNmKq-CevN"
      },
      "outputs": [],
      "source": [
        "import numpy as np\n",
        "# NumPy is a Python library made for operations on larger arrays and matrices.\n",
        "# Much of the functionality in NumPy is also available in PyTorch.\n",
        "# We will learn about NumPy when necessary though it is not the focus of this class.\n",
        "\n",
        "y = df.iloc[0:100, 4].values # here y is our label, not an input feature\n",
        "y = np.where(y == 'Iris-setosa', -1, 1)\n",
        "x = df.iloc[0:100, [0,2]].values"
      ]
    },
    {
      "cell_type": "code",
      "execution_count": 38,
      "metadata": {
        "colab": {
          "base_uri": "https://localhost:8080/",
          "height": 337
        },
        "id": "MkB3xNIZD7_C",
        "outputId": "1faa67c7-f7e4-4f19-ff34-27478a3f9e7c"
      },
      "outputs": [
        {
          "output_type": "execute_result",
          "data": {
            "text/plain": [
              "<matplotlib.legend.Legend at 0x7f4b44447a00>"
            ]
          },
          "metadata": {},
          "execution_count": 38
        },
        {
          "output_type": "display_data",
          "data": {
            "text/plain": [
              "<Figure size 360x360 with 1 Axes>"
            ],
            "image/png": "[encoded data removed]"
          },
          "metadata": {
            "needs_background": "light"
          }
        }
      ],
      "source": [
        "import matplotlib.pyplot as plt\n",
        "# matplotlib is a Python library that allows us to easily visualize various types of data\n",
        "\n",
        "plt.figure(figsize=(5, 5))\n",
        "plt.scatter(x[y == -1][:, 0], x[y == -1][:, 1], label='setosa')\n",
        "plt.scatter(x[y == 1][:, 0], x[y == 1][:, 1], label='others')\n",
        "plt.legend()\n"
      ]
    },
    {
      "cell_type": "code",
      "execution_count": 39,
      "metadata": {
        "colab": {
          "base_uri": "https://localhost:8080/"
        },
        "id": "Zd2hmMPmDneX",
        "outputId": "1673f042-5061-4100-8605-68b3cb519fe1"
      },
      "outputs": [
        {
          "output_type": "stream",
          "name": "stdout",
          "text": [
            "torch.Size([100, 2]) torch.Size([2])\n"
          ]
        }
      ],
      "source": [
        "# convert our features and labels to PyTorch tensors\n",
        "import torch\n",
        "\n",
        "y = torch.tensor(y, dtype=torch.float32).unsqueeze(-1) # (100) -> (100, 1)\n",
        "x = torch.tensor(x, dtype=torch.float32)\n",
        "x = x / torch.max(x, dim=0).values.unsqueeze(0) # (100, 2) / (1, 2) \n",
        "print(x.shape, torch.max(x, dim=0).values.shape)\n",
        "# Max scaling: x / max(x)\n",
        "#   0 <= x <= 1\n",
        "# Standardization: x mean 0 and standard deviation of 1 unit"
      ]
    },
    {
      "cell_type": "code",
      "execution_count": 47,
      "metadata": {
        "colab": {
          "base_uri": "https://localhost:8080/"
        },
        "id": "Aus4UfvEFqxV",
        "outputId": "64293a85-7bce-4157-8e68-a0b81b634841"
      },
      "outputs": [
        {
          "metadata": {
            "tags": null
          },
          "name": "stdout",
          "output_type": "stream",
          "text": [
            "Loss: 50.0000, Accuracy: 0.50\n",
            "Loss: 44.5013, Accuracy: 0.50\n",
            "Loss: 41.7045, Accuracy: 0.50\n",
            "Loss: 39.0952, Accuracy: 0.50\n",
            "Loss: 36.6601, Accuracy: 0.56\n",
            "Loss: 34.3875, Accuracy: 0.81\n",
            "Loss: 32.2665, Accuracy: 0.97\n",
            "Loss: 30.2871, Accuracy: 0.98\n",
            "Loss: 28.4398, Accuracy: 0.99\n",
            "Loss: 26.7157, Accuracy: 1.00\n",
            "Loss: 25.1067, Accuracy: 1.00\n",
            "Loss: 23.6051, Accuracy: 1.00\n",
            "Loss: 22.2036, Accuracy: 1.00\n",
            "Loss: 20.8957, Accuracy: 1.00\n",
            "Loss: 19.6751, Accuracy: 1.00\n",
            "Loss: 18.5359, Accuracy: 1.00\n",
            "Loss: 17.4728, Accuracy: 1.00\n",
            "Loss: 16.4805, Accuracy: 1.00\n",
            "Loss: 15.5545, Accuracy: 1.00\n",
            "Loss: 14.6903, Accuracy: 1.00\n",
            "Loss: 13.8838, Accuracy: 1.00\n",
            "Loss: 13.1311, Accuracy: 1.00\n",
            "Loss: 12.4286, Accuracy: 1.00\n",
            "Loss: 11.7730, Accuracy: 1.00\n",
            "Loss: 11.1612, Accuracy: 1.00\n",
            "Loss: 10.5901, Accuracy: 1.00\n",
            "Loss: 10.0572, Accuracy: 1.00\n",
            "Loss: 9.5599, Accuracy: 1.00\n",
            "Loss: 9.0957, Accuracy: 1.00\n",
            "Loss: 8.6625, Accuracy: 1.00\n",
            "Loss: 8.2582, Accuracy: 1.00\n",
            "Loss: 7.8809, Accuracy: 1.00\n",
            "Loss: 7.5288, Accuracy: 1.00\n",
            "Loss: 7.2002, Accuracy: 1.00\n",
            "Loss: 6.8935, Accuracy: 1.00\n",
            "Loss: 6.6072, Accuracy: 1.00\n",
            "Loss: 6.3401, Accuracy: 1.00\n",
            "Loss: 6.0908, Accuracy: 1.00\n",
            "Loss: 5.8581, Accuracy: 1.00\n",
            "Loss: 5.6410, Accuracy: 1.00\n",
            "Loss: 5.4383, Accuracy: 1.00\n",
            "Loss: 5.2492, Accuracy: 1.00\n",
            "Loss: 5.0727, Accuracy: 1.00\n",
            "Loss: 4.9080, Accuracy: 1.00\n",
            "Loss: 4.7542, Accuracy: 1.00\n",
            "Loss: 4.6108, Accuracy: 1.00\n",
            "Loss: 4.4769, Accuracy: 1.00\n",
            "Loss: 4.3519, Accuracy: 1.00\n",
            "Loss: 4.2353, Accuracy: 1.00\n",
            "Loss: 4.1264, Accuracy: 1.00\n"
          ]
        }
      ],
      "source": [
        "num_epochs = 50 # epoch is one iteration over your entire dataset\n",
        "lr = 1e-2 # lr - learning rate\n",
        "\n",
        "w = torch.zeros(2, 1)\n",
        "# shape x: (100, 2), mm(x, w) (100, 2), (2, 1) -> (100, 1)\n",
        "for i in range(num_epochs):\n",
        "  # calculate gradient and update weight\n",
        "  output = torch.mm(x, w)\n",
        "  error = (y - output)\n",
        "  # print(f'   x_0: error: {error[0].item():.2f}, ouput: {output[0].item():.2f}, prediction: {torch.where(output[0] > 0.0, 1.0, -1.0).item():.1f}, label: {y[0].item():.1f}') # x_0\n",
        "  w = w + lr * torch.mm(x.transpose(0, 1), error)\n",
        "\n",
        "  # calculate loss and accuracy\n",
        "  loss = torch.sum(error**2)*0.5\n",
        "  pred = torch.where(output >= 0.0, 1.0, -1.0)\n",
        "  accuracy = torch.sum(pred == y)/y.shape[0]\n",
        "  print(f'Loss: {loss:.4f}, Accuracy: {accuracy:.2f}')"
      ]
    }
  ],
  "metadata": {
    "colab": {
      "provenance": []
    },
    "kernelspec": {
      "display_name": "Python 3",
      "name": "python3"
    },
    "language_info": {
      "codemirror_mode": {
        "name": "ipython",
        "version": 3
      },
      "file_extension": ".py",
      "mimetype": "text/x-python",
      "name": "python",
      "nbconvert_exporter": "python",
      "pygments_lexer": "ipython3",
      "version": "3.10.6"
    }
  },
  "nbformat": 4,
  "nbformat_minor": 0
}